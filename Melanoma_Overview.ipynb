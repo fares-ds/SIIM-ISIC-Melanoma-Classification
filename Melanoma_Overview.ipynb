{
 "cells": [
  {
   "cell_type": "markdown",
   "metadata": {},
   "source": [
    "# SIIM-ISIC Melanoma Classification (Identify melanoma in lesion images)\n",
    "\n",
    "# 1. Overview\n",
    "Melanoma, the most serious type of skin cancer, develops in the cells (melanocytes) that produce melanin - the pigment that gives your skin its color. \n",
    "![Melanoma](img/melanoma_cell.png 'Melanoma')\n",
    "Melanoma can also form in your eyes and, rarely, inside your body, such as in your nose or throat. These are sometimes referred to as hidden melanomas because they occur in places most people wouldn't think to check.\n",
    "\n",
    "# 2. Symptoms\n",
    "Melanomas can develop anywhere on your body. They most often develop in areas that don't receive much sun exposure, such as the soles of your feet, palms of your hands and fingernail beds. These hidden melanomas are more common in people with darker skin.\n",
    "\n",
    "The first melanoma signs and symptoms often are:\n",
    "- A change in an existing mole\n",
    "- The development of a new pigmented or unusual-looking growth on your skin\n",
    "\n",
    "Melanoma doesn't always begin as a mole. It can also occur on otherwise normal-appearing skin.\n",
    "\n",
    "## Normal moles\n",
    "Normal moles are generally a uniform color - such as tan, brown or black - with a distinct border separating the mole from your surrounding skin. They're oval or round and usually smaller than 1/4 inch (about 6 millimeters) in diameter - the size of a pencil eraser.\n",
    "![Normal moles](img/moles.png)\n",
    "Most moles begin appearing in childhood and new moles may form until age 40. By the time they are adults, most people have between 10 and 40 moles. Moles may change in appearance over time and some may even disappear with age.\n",
    "\n",
    "## Unusual moles that may indicate melanoma\n",
    "![Melanoma](img/melanoma.png)\n",
    "To help you identify characteristics of unusual moles that may indicate melanomas or other skin cancers, think of the letters ABCDE:\n",
    "- **A is for asymmetrical shape.** Look for moles with irregular shapes, such as two very different-looking halves.\n",
    "- **B is for irregular border**. Look for moles with irregular, notched or scalloped borders - characteristics of melanomas.\n",
    "- **C is for changes in color**. Look for growths that have many colors or an uneven distribution of color.\n",
    "- **D is for diameter**. Look for new growth in a mole larger than 1/4 inch (about 6 millimeters).\n",
    "- **E is for evolving.** Look for changes over time, such as a mole that grows in size or that changes color or shape. Moles may also evolve to develop new signs and symptoms, such as new itchiness or bleeding.\n",
    "\n",
    "Cancerous (malignant) moles vary greatly in appearance. Some may show all of the changes listed above, while others may only one or two unusual characteristics.\n",
    "\n",
    "# 3. Causes\n",
    "\n",
    "Melanoma occurs when something goes wrong in the melanin-producing cells (melanocytes) that give color to your skin.\n",
    "\n",
    "Normally, skin cells develop in a controlled and orderly way - healthy new cells push older cells toward your skin's surface, where they die and eventually fall off. But when some cells develop DNA damage, new cells may begin to grow out of control and can eventually from a mass of cancerous cells.\n",
    "![Causes](img/where_skin_cancer_develops.png)\n",
    "Just what damages DNA in skin cells and how this leads to melanoma isn't clear. It's likely that a combination of factors, including environmental and genetic factors, causes melanoma. Still, doctors believe exposure to ultraviolet (UV) radiation from the sun and from tanning lamps and beds is the leading cause of melanoma.\n",
    "\n",
    "UV light doesn't cause all melanomas, especially those that occur in places on your body that don't receive exposure to sunlight. This indicates that other factors may contribute to your risk of melanoma.\n",
    "\n",
    "# 4. Risk factors\n",
    "Factors that may increase your risk of melanoma include:\n",
    "- **Fair hair:** Having less pigment (melanin) in your skin means you have less protection from UV radiation.\n",
    "- **A history of sunburn**\n",
    "- Excessive ultraviolet (UV) light exposure.\n",
    "- Living closer to the equator or at a higher elevation\n",
    "- Having many moles or unusual moles, having more than 50 ordinary moles on your body indicates an increased risk of melanoma.\n",
    "- A family history of melanoma, If a close relative - such as a parent, child or sibling - has had melanoma, you have a greater chance of developing a melanoma, too.\n",
    "- Weakened immune system.\n",
    "\n",
    "# 5. Prevention\n",
    "You can reduce your risk of melanoma and other types of skin cancer if you:\n",
    "- Avoid the sun during the middle of the day.\n",
    "- Wear sunscreen year-around\n",
    "- Wear protective clothing\n",
    "- Avoid tanning lamps and beds\n",
    "- Become familiar with your skin so that you'll notice changes.\n",
    "\n",
    "# References\n",
    "\n",
    "- [Melanoma symptoms and Causes](https://www.mayoclinic.org/diseases-conditions/melanoma/symptoms-causes/syc-20374884)"
   ]
  },
  {
   "cell_type": "code",
   "execution_count": 3,
   "metadata": {},
   "outputs": [],
   "source": [
    "import os\n",
    "import pandas as pd\n",
    "import numpy as np\n",
    "import matplotlib.pyplot as plt\n",
    "import seaborn as sns"
   ]
  },
  {
   "cell_type": "code",
   "execution_count": 5,
   "metadata": {},
   "outputs": [],
   "source": [
    "BASEPATH = 'data'\n",
    "df_train = pd.read_csv(os.path.join(BASEPATH, 'train.csv'))\n",
    "df_test = pd.read_csv(os.path.join(BASEPATH, 'test.csv'))\n",
    "df_sub = pd.read_csv(os.path.join(BASEPATH, 'sample_submission.csv'))"
   ]
  },
  {
   "cell_type": "code",
   "execution_count": 8,
   "metadata": {},
   "outputs": [
    {
     "data": {
      "text/html": [
       "<div>\n",
       "<style scoped>\n",
       "    .dataframe tbody tr th:only-of-type {\n",
       "        vertical-align: middle;\n",
       "    }\n",
       "\n",
       "    .dataframe tbody tr th {\n",
       "        vertical-align: top;\n",
       "    }\n",
       "\n",
       "    .dataframe thead th {\n",
       "        text-align: right;\n",
       "    }\n",
       "</style>\n",
       "<table border=\"1\" class=\"dataframe\">\n",
       "  <thead>\n",
       "    <tr style=\"text-align: right;\">\n",
       "      <th></th>\n",
       "      <th>image_name</th>\n",
       "      <th>patient_id</th>\n",
       "      <th>sex</th>\n",
       "      <th>age_approx</th>\n",
       "      <th>anatom_site_general_challenge</th>\n",
       "    </tr>\n",
       "  </thead>\n",
       "  <tbody>\n",
       "    <tr>\n",
       "      <th>0</th>\n",
       "      <td>ISIC_0052060</td>\n",
       "      <td>IP_3579794</td>\n",
       "      <td>male</td>\n",
       "      <td>70.0</td>\n",
       "      <td>NaN</td>\n",
       "    </tr>\n",
       "    <tr>\n",
       "      <th>1</th>\n",
       "      <td>ISIC_0052349</td>\n",
       "      <td>IP_7782715</td>\n",
       "      <td>male</td>\n",
       "      <td>40.0</td>\n",
       "      <td>lower extremity</td>\n",
       "    </tr>\n",
       "    <tr>\n",
       "      <th>2</th>\n",
       "      <td>ISIC_0058510</td>\n",
       "      <td>IP_7960270</td>\n",
       "      <td>female</td>\n",
       "      <td>55.0</td>\n",
       "      <td>torso</td>\n",
       "    </tr>\n",
       "    <tr>\n",
       "      <th>3</th>\n",
       "      <td>ISIC_0073313</td>\n",
       "      <td>IP_6375035</td>\n",
       "      <td>female</td>\n",
       "      <td>50.0</td>\n",
       "      <td>torso</td>\n",
       "    </tr>\n",
       "    <tr>\n",
       "      <th>4</th>\n",
       "      <td>ISIC_0073502</td>\n",
       "      <td>IP_0589375</td>\n",
       "      <td>female</td>\n",
       "      <td>45.0</td>\n",
       "      <td>lower extremity</td>\n",
       "    </tr>\n",
       "  </tbody>\n",
       "</table>\n",
       "</div>"
      ],
      "text/plain": [
       "     image_name  patient_id     sex  age_approx anatom_site_general_challenge\n",
       "0  ISIC_0052060  IP_3579794    male        70.0                           NaN\n",
       "1  ISIC_0052349  IP_7782715    male        40.0               lower extremity\n",
       "2  ISIC_0058510  IP_7960270  female        55.0                         torso\n",
       "3  ISIC_0073313  IP_6375035  female        50.0                         torso\n",
       "4  ISIC_0073502  IP_0589375  female        45.0               lower extremity"
      ]
     },
     "execution_count": 8,
     "metadata": {},
     "output_type": "execute_result"
    }
   ],
   "source": [
    "df_test.head()"
   ]
  },
  {
   "cell_type": "code",
   "execution_count": 6,
   "metadata": {},
   "outputs": [
    {
     "data": {
      "text/html": [
       "<div>\n",
       "<style scoped>\n",
       "    .dataframe tbody tr th:only-of-type {\n",
       "        vertical-align: middle;\n",
       "    }\n",
       "\n",
       "    .dataframe tbody tr th {\n",
       "        vertical-align: top;\n",
       "    }\n",
       "\n",
       "    .dataframe thead th {\n",
       "        text-align: right;\n",
       "    }\n",
       "</style>\n",
       "<table border=\"1\" class=\"dataframe\">\n",
       "  <thead>\n",
       "    <tr style=\"text-align: right;\">\n",
       "      <th></th>\n",
       "      <th>image_name</th>\n",
       "      <th>patient_id</th>\n",
       "      <th>sex</th>\n",
       "      <th>age_approx</th>\n",
       "      <th>anatom_site_general_challenge</th>\n",
       "      <th>diagnosis</th>\n",
       "      <th>benign_malignant</th>\n",
       "      <th>target</th>\n",
       "    </tr>\n",
       "  </thead>\n",
       "  <tbody>\n",
       "    <tr>\n",
       "      <th>0</th>\n",
       "      <td>ISIC_2637011</td>\n",
       "      <td>IP_7279968</td>\n",
       "      <td>male</td>\n",
       "      <td>45.0</td>\n",
       "      <td>head/neck</td>\n",
       "      <td>unknown</td>\n",
       "      <td>benign</td>\n",
       "      <td>0</td>\n",
       "    </tr>\n",
       "    <tr>\n",
       "      <th>1</th>\n",
       "      <td>ISIC_0015719</td>\n",
       "      <td>IP_3075186</td>\n",
       "      <td>female</td>\n",
       "      <td>45.0</td>\n",
       "      <td>upper extremity</td>\n",
       "      <td>unknown</td>\n",
       "      <td>benign</td>\n",
       "      <td>0</td>\n",
       "    </tr>\n",
       "    <tr>\n",
       "      <th>2</th>\n",
       "      <td>ISIC_0052212</td>\n",
       "      <td>IP_2842074</td>\n",
       "      <td>female</td>\n",
       "      <td>50.0</td>\n",
       "      <td>lower extremity</td>\n",
       "      <td>nevus</td>\n",
       "      <td>benign</td>\n",
       "      <td>0</td>\n",
       "    </tr>\n",
       "    <tr>\n",
       "      <th>3</th>\n",
       "      <td>ISIC_0068279</td>\n",
       "      <td>IP_6890425</td>\n",
       "      <td>female</td>\n",
       "      <td>45.0</td>\n",
       "      <td>head/neck</td>\n",
       "      <td>unknown</td>\n",
       "      <td>benign</td>\n",
       "      <td>0</td>\n",
       "    </tr>\n",
       "    <tr>\n",
       "      <th>4</th>\n",
       "      <td>ISIC_0074268</td>\n",
       "      <td>IP_8723313</td>\n",
       "      <td>female</td>\n",
       "      <td>55.0</td>\n",
       "      <td>upper extremity</td>\n",
       "      <td>unknown</td>\n",
       "      <td>benign</td>\n",
       "      <td>0</td>\n",
       "    </tr>\n",
       "  </tbody>\n",
       "</table>\n",
       "</div>"
      ],
      "text/plain": [
       "     image_name  patient_id     sex  age_approx anatom_site_general_challenge  \\\n",
       "0  ISIC_2637011  IP_7279968    male        45.0                     head/neck   \n",
       "1  ISIC_0015719  IP_3075186  female        45.0               upper extremity   \n",
       "2  ISIC_0052212  IP_2842074  female        50.0               lower extremity   \n",
       "3  ISIC_0068279  IP_6890425  female        45.0                     head/neck   \n",
       "4  ISIC_0074268  IP_8723313  female        55.0               upper extremity   \n",
       "\n",
       "  diagnosis benign_malignant  target  \n",
       "0   unknown           benign       0  \n",
       "1   unknown           benign       0  \n",
       "2     nevus           benign       0  \n",
       "3   unknown           benign       0  \n",
       "4   unknown           benign       0  "
      ]
     },
     "execution_count": 6,
     "metadata": {},
     "output_type": "execute_result"
    }
   ],
   "source": [
    "df_train.head()"
   ]
  },
  {
   "cell_type": "code",
   "execution_count": 7,
   "metadata": {},
   "outputs": [
    {
     "name": "stdout",
     "output_type": "stream",
     "text": [
      "0    32542\n",
      "1      584\n",
      "Name: target, dtype: int64\n"
     ]
    },
    {
     "data": {
      "image/png": "[encoded data removed]",
      "text/plain": [
       "<Figure size 720x576 with 1 Axes>"
      ]
     },
     "metadata": {
      "needs_background": "light"
     },
     "output_type": "display_data"
    }
   ],
   "source": [
    "# Get the counts for each class\n",
    "cases_count = df_train['target'].value_counts()\n",
    "print(cases_count)\n",
    "\n",
    "# Plot the results \n",
    "plt.figure(figsize=(10,8))\n",
    "sns.barplot(x=cases_count.index, y= cases_count.values)\n",
    "plt.title('Number of cases', fontsize=14)\n",
    "plt.xlabel('Case type', fontsize=12)\n",
    "plt.ylabel('Count', fontsize=12)\n",
    "plt.xticks(range(len(cases_count.index)), ['Normal(0)', 'melanoma(1)'])\n",
    "plt.show()"
   ]
  },
  {
   "cell_type": "markdown",
   "metadata": {},
   "source": [
    "It's an imbalance problem, we have `32542` normal sample vs only `584` melanoma sample. Although, in applications of machine learning to healthcare related problem the goal is always to minimize the **False Postive Rate (FPR)**. A false positive is when the model wrongly predict that the patient doesn't have melanoma when really he had it."
   ]
  },
  {
   "cell_type": "code",
   "execution_count": 9,
   "metadata": {},
   "outputs": [
    {
     "data": {
      "text/plain": [
       "image_name                         0\n",
       "patient_id                         0\n",
       "sex                               65\n",
       "age_approx                        68\n",
       "anatom_site_general_challenge    527\n",
       "diagnosis                          0\n",
       "benign_malignant                   0\n",
       "target                             0\n",
       "dtype: int64"
      ]
     },
     "execution_count": 9,
     "metadata": {},
     "output_type": "execute_result"
    }
   ],
   "source": [
    "df_train.isna().sum()"
   ]
  },
  {
   "cell_type": "code",
   "execution_count": 10,
   "metadata": {},
   "outputs": [
    {
     "name": "stdout",
     "output_type": "stream",
     "text": [
      "<class 'pandas.core.frame.DataFrame'>\n",
      "RangeIndex: 33126 entries, 0 to 33125\n",
      "Data columns (total 8 columns):\n",
      " #   Column                         Non-Null Count  Dtype  \n",
      "---  ------                         --------------  -----  \n",
      " 0   image_name                     33126 non-null  object \n",
      " 1   patient_id                     33126 non-null  object \n",
      " 2   sex                            33061 non-null  object \n",
      " 3   age_approx                     33058 non-null  float64\n",
      " 4   anatom_site_general_challenge  32599 non-null  object \n",
      " 5   diagnosis                      33126 non-null  object \n",
      " 6   benign_malignant               33126 non-null  object \n",
      " 7   target                         33126 non-null  int64  \n",
      "dtypes: float64(1), int64(1), object(6)\n",
      "memory usage: 2.0+ MB\n"
     ]
    }
   ],
   "source": [
    "df_train.info()"
   ]
  },
  {
   "cell_type": "code",
   "execution_count": 11,
   "metadata": {},
   "outputs": [
    {
     "name": "stdout",
     "output_type": "stream",
     "text": [
      "<class 'pandas.core.frame.DataFrame'>\n",
      "RangeIndex: 10982 entries, 0 to 10981\n",
      "Data columns (total 5 columns):\n",
      " #   Column                         Non-Null Count  Dtype  \n",
      "---  ------                         --------------  -----  \n",
      " 0   image_name                     10982 non-null  object \n",
      " 1   patient_id                     10982 non-null  object \n",
      " 2   sex                            10982 non-null  object \n",
      " 3   age_approx                     10982 non-null  float64\n",
      " 4   anatom_site_general_challenge  10631 non-null  object \n",
      "dtypes: float64(1), object(4)\n",
      "memory usage: 429.1+ KB\n"
     ]
    }
   ],
   "source": [
    "df_test.info()"
   ]
  },
  {
   "cell_type": "markdown",
   "metadata": {},
   "source": [
    "### `Sex`"
   ]
  },
  {
   "cell_type": "code",
   "execution_count": 48,
   "metadata": {},
   "outputs": [
    {
     "data": {
      "text/plain": [
       "<matplotlib.axes._subplots.AxesSubplot at 0x7f087003db90>"
      ]
     },
     "execution_count": 48,
     "metadata": {},
     "output_type": "execute_result"
    },
    {
     "data": {
      "image/png": "[encoded data removed]",
      "text/plain": [
       "<Figure size 864x576 with 2 Axes>"
      ]
     },
     "metadata": {
      "needs_background": "light"
     },
     "output_type": "display_data"
    }
   ],
   "source": [
    "plt.figure(figsize=(12, 8))\n",
    "\n",
    "plt.subplot(2, 2, 1)\n",
    "sns.countplot(df_train.sex)\n",
    "\n",
    "plt.subplot(2, 2, 2)\n",
    "sns.countplot(df_test.sex)"
   ]
  },
  {
   "cell_type": "code",
   "execution_count": 15,
   "metadata": {},
   "outputs": [
    {
     "data": {
      "text/plain": [
       "male      0.569568\n",
       "female    0.430432\n",
       "Name: sex, dtype: float64"
      ]
     },
     "execution_count": 15,
     "metadata": {},
     "output_type": "execute_result"
    }
   ],
   "source": [
    "df_test.sex.value_counts(normalize=True)"
   ]
  },
  {
   "cell_type": "markdown",
   "metadata": {},
   "source": [
    "### `pateint_id`"
   ]
  },
  {
   "cell_type": "code",
   "execution_count": 26,
   "metadata": {},
   "outputs": [
    {
     "name": "stdout",
     "output_type": "stream",
     "text": [
      "TRAIN --> We have: 2056 Unique pateint. That mean 16 image per pateient\n",
      "TEST --> We have: 690 Unique pateint. That mean 15 image per pateient\n"
     ]
    }
   ],
   "source": [
    "uni_pat_train = df_train.patient_id.nunique()\n",
    "uni_pat_test = df_test.patient_id.nunique()\n",
    "\n",
    "print(f\"TRAIN --> We have: {uni_pat_train} Unique pateint. That mean {df_train.shape[0] // uni_pat_train} image per pateient\")\n",
    "print(f\"TEST --> We have: {uni_pat_test} Unique pateint. That mean {df_test.shape[0] // uni_pat_test} image per pateient\")"
   ]
  },
  {
   "cell_type": "markdown",
   "metadata": {},
   "source": [
    "### `Age`"
   ]
  },
  {
   "cell_type": "code",
   "execution_count": 38,
   "metadata": {},
   "outputs": [
    {
     "data": {
      "text/plain": [
       "<matplotlib.axes._subplots.AxesSubplot at 0x7f08728042d0>"
      ]
     },
     "execution_count": 38,
     "metadata": {},
     "output_type": "execute_result"
    },
    {
     "data": {
      "image/png": "[encoded data removed]",
      "text/plain": [
       "<Figure size 864x576 with 2 Axes>"
      ]
     },
     "metadata": {
      "needs_background": "light"
     },
     "output_type": "display_data"
    }
   ],
   "source": [
    "plt.figure(figsize=(12, 8))\n",
    "\n",
    "plt.subplot(2, 2, 1)\n",
    "df_train.age_approx.value_counts().sort_index().plot(kind='bar')\n",
    "\n",
    "plt.subplot(2, 2, 2)\n",
    "df_test.age_approx.value_counts().sort_index().plot(kind='bar')"
   ]
  },
  {
   "cell_type": "markdown",
   "metadata": {},
   "source": [
    "### `anatom_site_general_challenge`"
   ]
  },
  {
   "cell_type": "code",
   "execution_count": 42,
   "metadata": {},
   "outputs": [
    {
     "data": {
      "text/plain": [
       "<matplotlib.axes._subplots.AxesSubplot at 0x7f0872389690>"
      ]
     },
     "execution_count": 42,
     "metadata": {},
     "output_type": "execute_result"
    },
    {
     "data": {
      "image/png": "[encoded data removed]",
      "text/plain": [
       "<Figure size 864x576 with 2 Axes>"
      ]
     },
     "metadata": {
      "needs_background": "light"
     },
     "output_type": "display_data"
    }
   ],
   "source": [
    "plt.figure(figsize=(12, 8))\n",
    "\n",
    "plt.subplot(2, 2, 1)\n",
    "df_train.anatom_site_general_challenge.value_counts(normalize=True).sort_index().plot(kind='bar')\n",
    "\n",
    "plt.subplot(2, 2, 2)\n",
    "df_test.anatom_site_general_challenge.value_counts(normalize=True).sort_index().plot(kind='bar')"
   ]
  },
  {
   "cell_type": "code",
   "execution_count": 46,
   "metadata": {},
   "outputs": [
    {
     "data": {
      "text/plain": [
       "unknown                               27124\n",
       "nevus                                  5193\n",
       "melanoma                                584\n",
       "seborrheic keratosis                    135\n",
       "lentigo NOS                              44\n",
       "lichenoid keratosis                      37\n",
       "solar lentigo                             7\n",
       "atypical melanocytic proliferation        1\n",
       "cafe-au-lait macule                       1\n",
       "Name: diagnosis, dtype: int64"
      ]
     },
     "execution_count": 46,
     "metadata": {},
     "output_type": "execute_result"
    }
   ],
   "source": [
    "df_train.diagnosis.value_counts()"
   ]
  },
  {
   "cell_type": "code",
   "execution_count": 20,
   "metadata": {},
   "outputs": [
    {
     "data": {
      "text/plain": [
       "Index(['image_name', 'patient_id', 'sex', 'age_approx',\n",
       "       'anatom_site_general_challenge', 'diagnosis', 'benign_malignant',\n",
       "       'target'],\n",
       "      dtype='object')"
      ]
     },
     "execution_count": 20,
     "metadata": {},
     "output_type": "execute_result"
    }
   ],
   "source": [
    "df_train.columns"
   ]
  }
 ],
 "metadata": {
  "kernelspec": {
   "display_name": "Python 3",
   "language": "python",
   "name": "python3"
  },
  "language_info": {
   "codemirror_mode": {
    "name": "ipython",
    "version": 3
   },
   "file_extension": ".py",
   "mimetype": "text/x-python",
   "name": "python",
   "nbconvert_exporter": "python",
   "pygments_lexer": "ipython3",
   "version": "3.7.6"
  }
 },
 "nbformat": 4,
 "nbformat_minor": 4
}

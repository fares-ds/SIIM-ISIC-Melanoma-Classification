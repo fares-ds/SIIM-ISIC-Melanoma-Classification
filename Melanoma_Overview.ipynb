{
 "cells": [
  {
   "cell_type": "markdown",
   "metadata": {},
   "source": [
    "# SIIM-ISIC Melanoma Classification (Identify melanoma in lesion images)\n",
    "\n",
    "# 1. Overview\n",
    "Melanoma, the most serious type of skin cancer, develops in the cells (melanocytes) that produce melanin - the pigment that gives your skin its color. \n",
    "\n",
    "Melanoma can also form in your eyes and, rarely, inside your body, such as in your nose or throat. These are sometimes referred to as hidden melanomas because they occur in places most people wouldn't think to check.\n",
    "\n",
    "# 2. Symptoms\n",
    "Melanomas can develop anywhere on your body. They most often develop in areas that don't receive much sun exposure, such as the soles of your feet, palms of your hands and fingernail beds. These hidden melanomas are more common in people with darker skin.\n",
    "\n",
    "The first melanoma signs and symptoms often are:\n",
    "- A change in an existing mole\n",
    "- The development of a new pigmented or unusual-looking growth on your skin\n",
    "\n",
    "Melanoma doesn't always begin as a mole. It can also occur on otherwise normal-appearing skin.\n",
    "\n",
    "## Normal moles\n",
    "Normal moles are generally a uniform color - such as tan, brown or black - with a distinct border separating the mole from your surrounding skin. They're oval or round and usually smaller than 1/4 inch (about 6 millimeters) in diameter - the size of a pencil eraser.\n",
    "\n",
    "Most moles begin appearing in childhood and new moles may form until age 40. By the time they are adults, most people have between 10 and 40 moles. Moles may change in appearance over time and some may even disappear with age.\n",
    "\n",
    "## Unusual moles that may indicate melanoma\n",
    "To help you identify characteristics of unusual moles that may indicate melanomas or other skin cancers, think of the letters ABCDE:\n",
    "- **A is for asymmetrical shape.** Look for moles with irregular shapes, such as two very different-looking halves.\n",
    "- **B is for irregular border**. Look for moles with irregular, notched or scalloped borders - characteristics of melanomas.\n",
    "- **C is for changes in color**. Look for growths that have many colors or an uneven distribution of color.\n",
    "- **D is for diameter**. Look for new growth in a mole larger than 1/4 inch (about 6 millimeters).\n",
    "- **E is for evolving.** Look for changes over time, such as a mole that grows in size or that changes color or shape. Moles may also evolve to develop new signs and symptoms, such as new itchiness or bleeding.\n",
    "\n",
    "Cancerous (malignant) moles vary greatly in appearance. Some may show all of the changes listed above, while others may only one or two unusual characteristics.\n",
    "\n",
    "# 3. Causes\n",
    "\n",
    "Melanoma occurs when something goes wrong in the melanin-producing cells (melanocytes) that give color to your skin.\n",
    "\n",
    "Normally, skin cells develop in a controlled and orderly way - healthy new cells push older cells toward your skin's surface, where they die and eventually fall off. But when some cells develop DNA damage, new cells may begin to grow out of control and can eventually from a mass of cancerous cells.\n",
    "\n",
    "Just what damages DNA in skin cells and how this leads to melanoma isn't clear. It's likely that a combination of factors, including environmental and genetic factors, causes melanoma. Still, doctors believe exposure to ultraviolet (UV) radiation from the sun and from tanning lamps and beds is the leading cause of melanoma.\n",
    "\n",
    "UV light doesn't cause all melanomas, especially those that occur in places on your body that don't receive exposure to sunlight. This indicates that other factors may contribute to your risk of melanoma.\n",
    "\n",
    "# 4. Risk factors\n",
    "Factors that may increase your risk of melanoma include:\n",
    "- **Fair hair:** Having less pigment (melanin) in your skin means you have less protection from UV radiation.\n",
    "- **A history of sunburn**\n",
    "- Excessive ultraviolet (UV) light exposure.\n",
    "- Living closer to the equator or at a higher elevation\n",
    "- Having many moles or unusual moles, having more than 50 ordinary moles on your body indicates an increased risk of melanoma.\n",
    "- A family history of melanoma, If a close relative - such as a parent, child or sibling - has had melanoma, you have a greater chance of developing a melanoma, too.\n",
    "- Weakened immune system.\n",
    "\n",
    "# 5. Prevention\n",
    "You can reduce your risk of melanoma and other types of skin cancer if you:\n",
    "- Avoid the sun during the middle of the day.\n",
    "- Wear sunscreen year-around\n",
    "- Wear protective clothing\n",
    "- Avoid tanning lamps and beds\n",
    "- Become familiar with your skin so that y"
   ]
  },
  {
   "cell_type": "code",
   "execution_count": null,
   "metadata": {},
   "outputs": [],
   "source": []
  }
 ],
 "metadata": {
  "kernelspec": {
   "display_name": "Python 3",
   "language": "python",
   "name": "python3"
  },
  "language_info": {
   "codemirror_mode": {
    "name": "ipython",
    "version": 3
   },
   "file_extension": ".py",
   "mimetype": "text/x-python",
   "name": "python",
   "nbconvert_exporter": "python",
   "pygments_lexer": "ipython3",
   "version": "3.7.6"
  }
 },
 "nbformat": 4,
 "nbformat_minor": 4
}
